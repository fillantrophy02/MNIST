'''Trains a simple convnet on the MNIST dataset.

Gets to 99.25% test accuracy after 12 epochs
(there is still a lot of margin for parameter tuning).
16 seconds per epoch on a GRID K520 GPU.
'''

from __future__ import print_function
import keras
from keras.datasets import mnist
from keras.models import Sequential
from keras.layers import Dense, Dropout, Flatten
from keras.layers import Conv2D, MaxPooling2D
from keras import backend as K

batch_size = 128
num_classes = 10
epochs = 12

# input image dimensions
img_rows, img_cols = 28, 28
input_shape = (img_rows, img_cols, 1)

# Install the PyDrive wrapper & import libraries.
# This only needs to be done once in a notebook.
!pip install -U -q PyDrive

from pydrive.auth import GoogleAuth
from pydrive.drive import GoogleDrive
from google.colab import auth
from oauth2client.client import GoogleCredentials

# authenticate and create the PyDrive client.
# this only needs to be done once in a notebook.
auth.authenticate_user()
gauth = GoogleAuth()
gauth.credentials = GoogleCredentials.get_application_default()
drive = GoogleDrive(gauth)

# mount gdrive (just in case)
from google.colab import drive
drive.mount('/content/gdrive')

# image preprocessing
from tensorflow.keras.preprocessing.image import ImageDataGenerator

train_datagen = ImageDataGenerator(rescale=1./255,
                                   rotation_range=20,
                                   width_shift_range=0.05,
                                   height_shift_range=0.05,
                                   shear_range=0.05,
                                   horizontal_flip=True,
                                   fill_mode='nearest',
                                   validation_split=0.2) # split into training and validation data

train_dir = '/content/gdrive/My Drive/Cardio AI Project/Data/MNIST/trainingSet'

train_generator = train_datagen.flow_from_directory(train_dir, 
                                                    target_size=(img_rows,img_cols), 
                                                    class_mode='categorical', 
                                                    batch_size=batch_size, 
                                                    color_mode='grayscale', 
                                                    subset='training', 
                                                    seed=None)
test_generator = train_datagen.flow_from_directory(train_dir, target_size=(img_rows,img_cols), class_mode='categorical', batch_size=batch_size, color_mode='grayscale', subset='validation', seed=None)

# visualising augmented images
i = 0
for batch in train_datagen.flow_from_directory(train_dir,
                                               save_to_dir='/content/gdrive/My Drive/Cardio AI Project/Data/MNIST/augmented-images',
                                               save_format='jpg',
                                               batch_size=1,
                                               subset='training'):
  i += 1
  if i > 20:
    break

# training model
model = Sequential()
model.add(Conv2D(32, kernel_size=(3, 3),
                 activation='relu',
                 data_format='channels_last',
                 input_shape=input_shape))
model.add(Conv2D(64, (3, 3), activation='relu'))
model.add(MaxPooling2D(pool_size=(2, 2)))
model.add(Dropout(0.25))
model.add(Flatten())
model.add(Dense(128, activation='relu'))
model.add(Dropout(0.5))
model.add(Dense(num_classes, activation='softmax'))

model.compile(loss=keras.losses.categorical_crossentropy,
              optimizer=keras.optimizers.Adadelta(),
              metrics=['accuracy'])

model.fit_generator(train_generator,
                    steps_per_epoch = 20,
                    epochs=epochs,
                    verbose=1,
                    validation_data=test_generator,
                    validation_steps=10)
score = model.evaluate_generator(test_generator, steps=10, verbose=0)
model.save_weights('/content/gdrive/My Drive/Cardio AI Project/Data/MNIST/models')

print('Test loss:', score[0])
print('Test accuracy:', score[1])
